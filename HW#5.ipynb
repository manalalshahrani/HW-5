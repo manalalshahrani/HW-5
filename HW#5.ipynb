{
 "cells": [
  {
   "cell_type": "code",
   "execution_count": 91,
   "id": "4802f831",
   "metadata": {},
   "outputs": [],
   "source": [
    "import sys\n",
    "from pyspark import SparkContext, SparkConf"
   ]
  },
  {
   "cell_type": "code",
   "execution_count": 92,
   "id": "4fc307ab",
   "metadata": {},
   "outputs": [],
   "source": [
    "conf = SparkConf()\n",
    "sc = SparkContext.getOrCreate(conf=conf)\n",
    "spark = SparkSession(sc)"
   ]
  },
  {
   "cell_type": "code",
   "execution_count": 93,
   "id": "a2c2f6f9",
   "metadata": {},
   "outputs": [],
   "source": [
    "def count_words(file, stopWords):\n",
    "    text_file = sc.textFile(file)\n",
    "    counts = text_file.flatMap(lambda line: line.split(\" \")).filter(lambda x: x.lower() not in stopWords) \\\n",
    "             .map(lambda word: (file+\"_\"+word, 1)) \\\n",
    "             .reduceByKey(lambda a, b: a + b)\n",
    "    counts.saveAsTextFile(file+\"_output\")\n",
    "    counts.coalesce(1).saveAsTextFile(\"res.csv\")"
   ]
  },
  {
   "cell_type": "code",
   "execution_count": 94,
   "id": "d4fe64c5",
   "metadata": {},
   "outputs": [],
   "source": [
    "stopWords = ['they', 'she', 'he', 'it', 'the', 'as', 'is' , 'and']"
   ]
  },
  {
   "cell_type": "code",
   "execution_count": 95,
   "id": "261adace",
   "metadata": {},
   "outputs": [],
   "source": [
    "count_words(\"Miserables.txt\", stopWords)"
   ]
  },
  {
   "cell_type": "code",
   "execution_count": 96,
   "id": "ea7ba011",
   "metadata": {},
   "outputs": [],
   "source": [
    "count_words(\"NotreDame_De_Paris.txt\", stopWords)"
   ]
  },
  {
   "cell_type": "code",
   "execution_count": 97,
   "id": "8bfab208",
   "metadata": {},
   "outputs": [],
   "source": [
    "count_words(\"anna_karenhina.txt\", stopWords)"
   ]
  },
  {
   "cell_type": "code",
   "execution_count": 98,
   "id": "c453b3a4",
   "metadata": {},
   "outputs": [],
   "source": [
    "count_words(\"war_and_peace.txt\", stopWords)"
   ]
  }
 ],
 "metadata": {
  "kernelspec": {
   "display_name": "Python 3 (ipykernel)",
   "language": "python",
   "name": "python3"
  },
  "language_info": {
   "codemirror_mode": {
    "name": "ipython",
    "version": 3
   },
   "file_extension": ".py",
   "mimetype": "text/x-python",
   "name": "python",
   "nbconvert_exporter": "python",
   "pygments_lexer": "ipython3",
   "version": "3.9.7"
  }
 },
 "nbformat": 4,
 "nbformat_minor": 5
}
